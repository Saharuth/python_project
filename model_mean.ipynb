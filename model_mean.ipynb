{
  "nbformat": 4,
  "nbformat_minor": 0,
  "metadata": {
    "colab": {
      "provenance": [],
      "gpuType": "T4",
      "name": "model_mean.ipynb",
      "authorship_tag": "ABX9TyOuKMYM+GSbYk2nx39cnKI4",
      "include_colab_link": true
    },
    "kernelspec": {
      "name": "python3",
      "display_name": "Python 3"
    },
    "language_info": {
      "name": "python"
    },
    "accelerator": "GPU"
  },
  "cells": [
    {
      "cell_type": "markdown",
      "metadata": {
        "id": "view-in-github",
        "colab_type": "text"
      },
      "source": [
        "<a href=\"https://colab.research.google.com/github/Saharuth/python_project/blob/AI/model_mean.ipynb\" target=\"_parent\"><img src=\"https://colab.research.google.com/assets/colab-badge.svg\" alt=\"Open In Colab\"/></a>"
      ]
    },
    {
      "cell_type": "code",
      "execution_count": 1,
      "metadata": {
        "id": "Loz0UziwQOpl",
        "colab": {
          "base_uri": "https://localhost:8080/"
        },
        "outputId": "c354a833-3ff9-45ed-cea4-4e285ba84148"
      },
      "outputs": [
        {
          "output_type": "stream",
          "name": "stdout",
          "text": [
            "Fri Jun 30 13:21:16 2023       \n",
            "+-----------------------------------------------------------------------------+\n",
            "| NVIDIA-SMI 525.85.12    Driver Version: 525.85.12    CUDA Version: 12.0     |\n",
            "|-------------------------------+----------------------+----------------------+\n",
            "| GPU  Name        Persistence-M| Bus-Id        Disp.A | Volatile Uncorr. ECC |\n",
            "| Fan  Temp  Perf  Pwr:Usage/Cap|         Memory-Usage | GPU-Util  Compute M. |\n",
            "|                               |                      |               MIG M. |\n",
            "|===============================+======================+======================|\n",
            "|   0  Tesla T4            Off  | 00000000:00:04.0 Off |                    0 |\n",
            "| N/A   71C    P8    13W /  70W |      0MiB / 15360MiB |      0%      Default |\n",
            "|                               |                      |                  N/A |\n",
            "+-------------------------------+----------------------+----------------------+\n",
            "                                                                               \n",
            "+-----------------------------------------------------------------------------+\n",
            "| Processes:                                                                  |\n",
            "|  GPU   GI   CI        PID   Type   Process name                  GPU Memory |\n",
            "|        ID   ID                                                   Usage      |\n",
            "|=============================================================================|\n",
            "|  No running processes found                                                 |\n",
            "+-----------------------------------------------------------------------------+\n"
          ]
        }
      ],
      "source": [
        "!nvidia-smi"
      ]
    },
    {
      "cell_type": "code",
      "source": [
        "import tensorflow as tf\n",
        "from tensorflow.keras.models import *\n",
        "from tensorflow.keras.layers import *\n",
        "import numpy as np"
      ],
      "metadata": {
        "id": "YV5Oo8btXvRL"
      },
      "execution_count": 2,
      "outputs": []
    },
    {
      "cell_type": "markdown",
      "source": [
        "Ex โจทย์ สร้าง model ในการหา \"ค่าเฉลี่ย\" จากชุดตัวเลขเป็นจำนวนเต็มบวกชุดละ 6 ตัว"
      ],
      "metadata": {
        "id": "BCkRQEDSZDZJ"
      }
    },
    {
      "cell_type": "code",
      "source": [
        "result = np.random.randint(100, size=(1000,6))/100\n",
        "print(result)"
      ],
      "metadata": {
        "id": "770jCwHOZTMH",
        "colab": {
          "base_uri": "https://localhost:8080/"
        },
        "outputId": "a8907960-c08d-4e00-d6fe-ffc956f857b7"
      },
      "execution_count": 3,
      "outputs": [
        {
          "output_type": "stream",
          "name": "stdout",
          "text": [
            "[[0.83 0.17 0.64 0.49 0.82 0.73]\n",
            " [0.78 0.15 0.37 0.97 0.61 0.56]\n",
            " [0.14 0.26 0.59 0.69 0.27 0.19]\n",
            " ...\n",
            " [0.1  0.61 0.57 0.28 0.11 0.7 ]\n",
            " [0.97 0.25 0.61 0.65 0.04 0.1 ]\n",
            " [0.83 0.56 0.49 0.59 0.27 0.91]]\n"
          ]
        }
      ]
    },
    {
      "cell_type": "code",
      "source": [
        "train = np.random.randint(100, size=(10000,6))/100\n",
        "val = np.random.randint(100, size=(1000,6))/100\n",
        "test = np.random.randint(100, size=(1000,6))/100"
      ],
      "metadata": {
        "id": "vl1qqsFoadJ4"
      },
      "execution_count": 4,
      "outputs": []
    },
    {
      "cell_type": "markdown",
      "source": [
        "เริ่มจากการสอนแบบ Supervise Learning ----> ดำเนินการทำเฉลยให้กับ dataset ทั้งหมด"
      ],
      "metadata": {
        "id": "EGTJPZ0Abk3Z"
      }
    },
    {
      "cell_type": "code",
      "source": [
        "train_ans = train.mean(axis=1)\n",
        "val_ans = val.mean(axis=1)\n",
        "test_ans = test.mean(axis=1)"
      ],
      "metadata": {
        "id": "tifD_fKBbUlw"
      },
      "execution_count": 5,
      "outputs": []
    },
    {
      "cell_type": "code",
      "source": [
        "model = Sequential()\n",
        "model.add(Dense(8, input_shape=(6,)))\n",
        "model.add(Dense(8))\n",
        "model.add(Dense(1))\n",
        "\n",
        "model.summary()"
      ],
      "metadata": {
        "id": "NvMUaboDddlp",
        "colab": {
          "base_uri": "https://localhost:8080/"
        },
        "outputId": "3c325556-5bc7-41da-f220-3e726d8674d2"
      },
      "execution_count": 6,
      "outputs": [
        {
          "output_type": "stream",
          "name": "stdout",
          "text": [
            "Model: \"sequential\"\n",
            "_________________________________________________________________\n",
            " Layer (type)                Output Shape              Param #   \n",
            "=================================================================\n",
            " dense (Dense)               (None, 8)                 56        \n",
            "                                                                 \n",
            " dense_1 (Dense)             (None, 8)                 72        \n",
            "                                                                 \n",
            " dense_2 (Dense)             (None, 1)                 9         \n",
            "                                                                 \n",
            "=================================================================\n",
            "Total params: 137\n",
            "Trainable params: 137\n",
            "Non-trainable params: 0\n",
            "_________________________________________________________________\n"
          ]
        }
      ]
    },
    {
      "cell_type": "markdown",
      "source": [
        "Sequential คือ ต่อกันเป็น layer อย่างชัดเจน\n",
        "ส่วนแบบ Funtional คือ ต่อกันแยกเป็นหลายขาได้ หยืดหยุ่นกว่า ซับซ้อนได้มากกว่า"
      ],
      "metadata": {
        "id": "frqpSzHsdsX5"
      }
    },
    {
      "cell_type": "code",
      "source": [
        "model.compile(loss=\"mse\", optimizer=tf.keras.optimizers.SGD())\n",
        "model.fit(\n",
        "    x = train,\n",
        "    y = train_ans,\n",
        "    epochs = 10,\n",
        "    batch_size = 100,\n",
        "    validation_data = (val, val_ans),\n",
        "    validation_batch_size = 100\n",
        ")"
      ],
      "metadata": {
        "colab": {
          "base_uri": "https://localhost:8080/"
        },
        "id": "ZWPLYAyHZ0B-",
        "outputId": "80adc4d9-3be2-4f72-a653-349c74380c52"
      },
      "execution_count": 7,
      "outputs": [
        {
          "output_type": "stream",
          "name": "stdout",
          "text": [
            "Epoch 1/10\n",
            "100/100 [==============================] - 2s 4ms/step - loss: 0.0162 - val_loss: 0.0106\n",
            "Epoch 2/10\n",
            "100/100 [==============================] - 0s 3ms/step - loss: 0.0087 - val_loss: 0.0071\n",
            "Epoch 3/10\n",
            "100/100 [==============================] - 0s 3ms/step - loss: 0.0062 - val_loss: 0.0053\n",
            "Epoch 4/10\n",
            "100/100 [==============================] - 0s 3ms/step - loss: 0.0047 - val_loss: 0.0041\n",
            "Epoch 5/10\n",
            "100/100 [==============================] - 0s 3ms/step - loss: 0.0038 - val_loss: 0.0033\n",
            "Epoch 6/10\n",
            "100/100 [==============================] - 0s 3ms/step - loss: 0.0031 - val_loss: 0.0028\n",
            "Epoch 7/10\n",
            "100/100 [==============================] - 0s 3ms/step - loss: 0.0025 - val_loss: 0.0023\n",
            "Epoch 8/10\n",
            "100/100 [==============================] - 0s 3ms/step - loss: 0.0021 - val_loss: 0.0019\n",
            "Epoch 9/10\n",
            "100/100 [==============================] - 0s 3ms/step - loss: 0.0018 - val_loss: 0.0016\n",
            "Epoch 10/10\n",
            "100/100 [==============================] - 0s 3ms/step - loss: 0.0015 - val_loss: 0.0014\n"
          ]
        },
        {
          "output_type": "execute_result",
          "data": {
            "text/plain": [
              "<keras.callbacks.History at 0x7f440bcc1990>"
            ]
          },
          "metadata": {},
          "execution_count": 7
        }
      ]
    },
    {
      "cell_type": "code",
      "source": [
        "predic = model.predict(test)\n",
        "print(predic[:5])\n",
        "print(test_ans[:5])"
      ],
      "metadata": {
        "colab": {
          "base_uri": "https://localhost:8080/"
        },
        "id": "ub3Y2INgeD3X",
        "outputId": "04898bf8-e9f8-4fa9-9732-5c785c1e3eba"
      },
      "execution_count": 10,
      "outputs": [
        {
          "output_type": "stream",
          "name": "stdout",
          "text": [
            "32/32 [==============================] - 0s 1ms/step\n",
            "[[0.5534303 ]\n",
            " [0.37634444]\n",
            " [0.2579824 ]\n",
            " [0.57172424]\n",
            " [0.22678228]]\n",
            "[0.57166667 0.40333333 0.22833333 0.595      0.23166667]\n"
          ]
        }
      ]
    }
  ]
}