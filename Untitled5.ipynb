{
  "nbformat": 4,
  "nbformat_minor": 0,
  "metadata": {
    "colab": {
      "provenance": [],
      "gpuType": "T4",
      "authorship_tag": "ABX9TyP3BeBYB4fvbO7lfzIj3eFs",
      "include_colab_link": true
    },
    "kernelspec": {
      "name": "python3",
      "display_name": "Python 3"
    },
    "language_info": {
      "name": "python"
    },
    "accelerator": "GPU"
  },
  "cells": [
    {
      "cell_type": "markdown",
      "metadata": {
        "id": "view-in-github",
        "colab_type": "text"
      },
      "source": [
        "<a href=\"https://colab.research.google.com/github/Saharuth/python_project/blob/AI/Untitled5.ipynb\" target=\"_parent\"><img src=\"https://colab.research.google.com/assets/colab-badge.svg\" alt=\"Open In Colab\"/></a>"
      ]
    },
    {
      "cell_type": "code",
      "execution_count": 1,
      "metadata": {
        "id": "Loz0UziwQOpl",
        "colab": {
          "base_uri": "https://localhost:8080/"
        },
        "outputId": "21dadbdb-1b81-4d6a-f5c7-a149e3b2f248"
      },
      "outputs": [
        {
          "output_type": "stream",
          "name": "stdout",
          "text": [
            "Thu Jun 29 13:36:25 2023       \n",
            "+-----------------------------------------------------------------------------+\n",
            "| NVIDIA-SMI 525.85.12    Driver Version: 525.85.12    CUDA Version: 12.0     |\n",
            "|-------------------------------+----------------------+----------------------+\n",
            "| GPU  Name        Persistence-M| Bus-Id        Disp.A | Volatile Uncorr. ECC |\n",
            "| Fan  Temp  Perf  Pwr:Usage/Cap|         Memory-Usage | GPU-Util  Compute M. |\n",
            "|                               |                      |               MIG M. |\n",
            "|===============================+======================+======================|\n",
            "|   0  Tesla T4            Off  | 00000000:00:04.0 Off |                    0 |\n",
            "| N/A   61C    P8    13W /  70W |      0MiB / 15360MiB |      0%      Default |\n",
            "|                               |                      |                  N/A |\n",
            "+-------------------------------+----------------------+----------------------+\n",
            "                                                                               \n",
            "+-----------------------------------------------------------------------------+\n",
            "| Processes:                                                                  |\n",
            "|  GPU   GI   CI        PID   Type   Process name                  GPU Memory |\n",
            "|        ID   ID                                                   Usage      |\n",
            "|=============================================================================|\n",
            "|  No running processes found                                                 |\n",
            "+-----------------------------------------------------------------------------+\n"
          ]
        }
      ],
      "source": [
        "!nvidia-smi"
      ]
    },
    {
      "cell_type": "code",
      "source": [
        "import tensorflow as tf\n",
        "from tensorflow.keras.models import *\n",
        "from tensorflow.keras.layers import *\n",
        "import numpy as np"
      ],
      "metadata": {
        "id": "YV5Oo8btXvRL"
      },
      "execution_count": 2,
      "outputs": []
    },
    {
      "cell_type": "markdown",
      "source": [
        "Ex โจทย์ สร้าง model ในการหา \"ค่าเฉลี่ย\" จากชุดตัวเลขเป็นจำนวนเต็มบวกชุดละ 6 ตัว"
      ],
      "metadata": {
        "id": "BCkRQEDSZDZJ"
      }
    },
    {
      "cell_type": "code",
      "source": [
        "result = np.random.randint(100, size=(1000,6))\n",
        "print(result)"
      ],
      "metadata": {
        "id": "770jCwHOZTMH"
      },
      "execution_count": null,
      "outputs": []
    },
    {
      "cell_type": "code",
      "source": [
        "train = np.random.randint(100, size=(10000,6))\n",
        "val = np.random.randint(100, size=(1000,6))\n",
        "test = np.random.randint(100, size=(1000,6))"
      ],
      "metadata": {
        "id": "vl1qqsFoadJ4"
      },
      "execution_count": 14,
      "outputs": []
    },
    {
      "cell_type": "markdown",
      "source": [
        "เริ่มจากการสอนแบบ Supervise Learning ----> ดำเนินการทำเฉลยให้กับ dataset ทั้งหมด"
      ],
      "metadata": {
        "id": "EGTJPZ0Abk3Z"
      }
    },
    {
      "cell_type": "code",
      "source": [
        "train_ans = train.mean(axis=1)\n",
        "val_ans = val.mean(axis=1)\n",
        "test_ans = test.mean(axis=1)"
      ],
      "metadata": {
        "id": "tifD_fKBbUlw"
      },
      "execution_count": 21,
      "outputs": []
    },
    {
      "cell_type": "code",
      "source": [
        "model = Sequential()\n",
        "model.add(Dense())"
      ],
      "metadata": {
        "id": "NvMUaboDddlp"
      },
      "execution_count": null,
      "outputs": []
    },
    {
      "cell_type": "markdown",
      "source": [
        "Sequential คือ ต่อกันเป็น layer อย่างชัดเจน\n",
        "ส่วนแบบ Funtional คือ ต่อกันแยกเป็นหลายขาได้ หยืดหยุ่นกว่า ซับซ้อนได้มากกว่า"
      ],
      "metadata": {
        "id": "frqpSzHsdsX5"
      }
    }
  ]
}